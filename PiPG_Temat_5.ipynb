{
 "cells": [
  {
   "cell_type": "code",
   "execution_count": 1,
   "metadata": {},
   "outputs": [],
   "source": [
    "import numpy as np\n",
    "import matplotlib.pyplot as plt\n",
    "import os\n",
    "from ipywidgets import FloatSlider as Slider\n",
    "from ipywidgets import IntSlider as Slider_int\n",
    "from ipywidgets import interact, Layout\n",
    "from IPython.display import display\n",
    "from ipywidgets import interactive"
   ]
  },
  {
   "cell_type": "code",
   "execution_count": 2,
   "metadata": {},
   "outputs": [],
   "source": [
    "GM =  3986005*10**8\n",
    "om_e = 7292115*10**-11\n",
    "\n",
    "os.chdir(r'C:\\aa_sem_i\\PiPG_I\\temat_5\\dane_wejsciowe')\n",
    "img = plt.imread('_earth.jpg')\n",
    "\n",
    "def plot_(fi,la, interval):\n",
    "    \n",
    "    plt.figure(figsize=(15,8))\n",
    "    plt.title('Wpływ parametrów orbity na trajektorię satelity',fontsize = 18, pad = 20)\n",
    "    plt.xlabel('$λ_0$',fontsize = 15)\n",
    "    plt.ylabel('$φ_0$', fontsize = 15)\n",
    "    #skalowanie tla\n",
    "    plt.imshow(img, extent=(-180,180,-90,90))\n",
    "    #trajektoria satelity i miejscowosc\n",
    "    plt.plot(la,fi, 'oy', label = f'lokalizacja satelity, interwał {interval} minut', markersize = 5)\n",
    "    plt.legend()\n",
    "    plt.tight_layout()\n",
    "    plt.show()"
   ]
  },
  {
   "cell_type": "code",
   "execution_count": 3,
   "metadata": {},
   "outputs": [],
   "source": [
    "# obliczenia\n",
    "def data(a, e, i, M_0, Om_0, om, T, interval):\n",
    "    \n",
    "    ro = np.pi/180\n",
    "    i *= ro\n",
    "    M_0 *= ro\n",
    "    Om_0 *= ro\n",
    "    om *= ro\n",
    "    \n",
    "    dt = np.arange(0,3600*T+1,60*interval)\n",
    "    \n",
    "    n = np.sqrt(GM / a ** 3)\n",
    "    M = M_0 + n * dt\n",
    "\n",
    "    def obl_E(E, E0, M, e):\n",
    "        while abs(E - E0) > 10 ** -3:\n",
    "            E0 = E\n",
    "            E = M + e * np.sin(E)\n",
    "        return E\n",
    "\n",
    "    E_array = []\n",
    "\n",
    "    for M_P in M:\n",
    "        E = obl_E(0, 0.2, M_P, e)\n",
    "        E_array.append(E)\n",
    "\n",
    "    E = np.array(E_array)\n",
    "    v = np.arctan2(np.sqrt(1 - e ** 2) * np.sin(E), np.cos(E) - e)\n",
    "    u = v + om\n",
    "    r = a * (1 - e * np.cos(E))\n",
    "    xp = r * np.cos(u)\n",
    "    yp = r * np.sin(u)\n",
    "    OM = Om_0 - om_e * dt\n",
    "    x = xp * np.cos(OM) - yp * np.cos(i) * np.sin(OM)\n",
    "    y = xp * np.sin(OM) + yp * np.cos(i) * np.cos(OM)\n",
    "    z = yp * np.sin(i)\n",
    "\n",
    "    ro = 180 / np.pi\n",
    "\n",
    "    p = np.sqrt(x * x + y * y)\n",
    "    fi = ro * np.arctan2(z, p)\n",
    "    la = ro * np.arctan2(y, x)\n",
    "    \n",
    "    plot_(fi,la,interval)"
   ]
  },
  {
   "cell_type": "code",
   "execution_count": 5,
   "metadata": {},
   "outputs": [
    {
     "data": {
      "application/vnd.jupyter.widget-view+json": {
       "model_id": "dcc95e5e6ab9428d897d20d758fdf3ea",
       "version_major": 2,
       "version_minor": 0
      },
      "text/plain": [
       "interactive(children=(FloatSlider(value=26555000.0, description='a', layout=Layout(height='15px', width='80%')…"
      ]
     },
     "metadata": {},
     "output_type": "display_data"
    }
   ],
   "source": [
    "# definicja suwaków do wartości parametrów wejściowych\n",
    "lay = Layout(width='80%', height='15px')\n",
    "slider_a = Slider(value=26555000, min=6400000, max=51200000, step=5, description='a', layout=lay)\n",
    "slider_e = Slider(value=0.072, min=0, max=1, step=0.000000001, description='e', layout=lay)\n",
    "slider_i = Slider(value=63.4, min=0, max=180, step=0.1, description='i', layout=lay)\n",
    "slider_M0 = Slider(value=60, min=0, max=360, step=0.1, description='M0', layout=lay)\n",
    "slider_OMEGA0 = Slider(value=90, min=0, max=360, step=0.1, description='OMEGA0', layout=lay)\n",
    "slider_omega = Slider(value=90, min=0, max=360, step=0.1, description='omega', layout=lay)\n",
    "slider_T = Slider_int(value=24, min=1, max=168, step=1, description='T', layout=lay)\n",
    "slider_interval = Slider_int(value=15, min=1, max=60, step=1, description='dt', layout=lay)\n",
    "\n",
    "\n",
    "# wywołanie funkcji z paraametrami ustawionymi na suwakach\n",
    "i = interact(data, a=slider_a, e=slider_e, i=slider_i, M_0=slider_M0, Om_0=slider_OMEGA0, om=slider_omega, T = slider_T,\n",
    "         interval=slider_interval)\n"
   ]
  },
  {
   "cell_type": "code",
   "execution_count": null,
   "metadata": {},
   "outputs": [],
   "source": []
  }
 ],
 "metadata": {
  "kernelspec": {
   "display_name": "Python 3",
   "language": "python",
   "name": "python3"
  },
  "language_info": {
   "codemirror_mode": {
    "name": "ipython",
    "version": 3
   },
   "file_extension": ".py",
   "mimetype": "text/x-python",
   "name": "python",
   "nbconvert_exporter": "python",
   "pygments_lexer": "ipython3",
   "version": "3.8.5"
  }
 },
 "nbformat": 4,
 "nbformat_minor": 4
}
