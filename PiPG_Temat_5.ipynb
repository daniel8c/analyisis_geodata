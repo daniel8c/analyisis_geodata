{
 "cells": [
  {
   "cell_type": "code",
   "execution_count": 1,
   "metadata": {},
   "outputs": [],
   "source": [
    "#! pip3 install ipympl --user"
   ]
  },
  {
   "cell_type": "code",
   "execution_count": 1,
   "metadata": {},
   "outputs": [
    {
     "name": "stdout",
     "output_type": "stream",
     "text": [
      "Using matplotlib backend: Qt5Agg\n"
     ]
    }
   ],
   "source": [
    "%matplotlib\n",
    "import numpy as np\n",
    "import matplotlib.pyplot as plt\n",
    "import os\n",
    "import ipywidgets as widgets\n",
    "from ipywidgets import FloatSlider as Slider\n",
    "from ipywidgets import IntSlider as Slider_int\n",
    "from ipywidgets import interact, Layout\n",
    "from ipywidgets import interactive\n",
    "import sys\n",
    "import datetime"
   ]
  },
  {
   "cell_type": "code",
   "execution_count": 4,
   "metadata": {},
   "outputs": [],
   "source": [
    "os.chdir(r'C:\\aa_sem_i\\PiPG_I\\temat_5\\dane_wejsciowe') # Zmiana obszaru roboczego\n",
    "img = plt.imread('_earth.jpg') # Wczytanie obrazu Ziemi\n",
    "\n",
    "# Stałe systemu GRS-80\n",
    "GM =  3986005*10**8\n",
    "om_e = 7292115*10**-11\n",
    "\n",
    "def plot_(fi,la, interval):\n",
    "    ''' Funkcja rysująca wykres'''\n",
    "    \n",
    "    markersize = 3 if interval <7 else 6\n",
    "    \n",
    "    plt.figure(figsize=(10,5))\n",
    "    plt.title('Wpływ parametrów orbity na trajektorię satelity',fontsize = 18, pad = 20)\n",
    "    plt.xlabel('$\\lambda_0$',fontsize = 15)\n",
    "    plt.ylabel('$\\phi_0$', fontsize = 15)\n",
    "    #skalowanie tla\n",
    "    plt.imshow(img, extent=(-180,180,-90,90))\n",
    "    #trajektoria satelity i miejscowosc\n",
    "    plt.plot(la,fi, 'ok', label = f'lokalizacja satelity, interwał {interval} minut', markersize = markersize)\n",
    "    plt.legend()\n",
    "    plt.tight_layout()\n",
    "    plt.show()"
   ]
  },
  {
   "cell_type": "code",
   "execution_count": 5,
   "metadata": {},
   "outputs": [],
   "source": [
    "# obliczenia\n",
    "def data(a, e, i, M_0, Om_0, om, T, interval):\n",
    "    # a - półoś wielka\n",
    "    # e - mimośród\n",
    "    # i - nachylenie orbity\n",
    "    # om - argument perigeum\n",
    "    # OM_0 - długość węzła wstępującego\n",
    "    # T - moment czasu\n",
    "    # interval - interwał rejestracji\n",
    "\n",
    "    ro = np.pi/180\n",
    "    i *= ro\n",
    "    M_0 *= ro\n",
    "    Om_0 *= ro\n",
    "    om *= ro\n",
    "    \n",
    "    dt = np.arange(0,3600*T+1,60*interval)\n",
    "    \n",
    "    n = np.sqrt(GM / a ** 3) # ruch satelity\n",
    "    M = M_0 + n * dt # anomalia średnia\n",
    "\n",
    "    def obl_E(E, E0, M, e):\n",
    "        while abs(E - E0) > 10 ** -3:\n",
    "            E0 = E\n",
    "            E = M + e * np.sin(E)\n",
    "        return E\n",
    "    \n",
    "    E = np.array([obl_E(0, 0.2, M_P, e) for M_P in M]) # anomalia mimośrodowa\n",
    "    \n",
    "    v = np.arctan2(np.sqrt(1 - e ** 2) * np.sin(E), np.cos(E) - e) # anomalia prawdziwa\n",
    "    u = v + om # azrgument szerokości\n",
    "    r = a * (1 - e * np.cos(E)) # promień wodzący satelity\n",
    "    \n",
    "    # Współrzędne satelity w płaszczyźnie płaskiej orbity\n",
    "    xp = r * np.cos(u)\n",
    "    yp = r * np.sin(u)\n",
    "    \n",
    "    OM = Om_0 - om_e * dt # rektascenzja węzła zstępującego\n",
    "    \n",
    "    # Współrzędne satelity w układzie geocentrycznym\n",
    "    x = xp * np.cos(OM) - yp * np.cos(i) * np.sin(OM)\n",
    "    y = xp * np.sin(OM) + yp * np.cos(i) * np.cos(OM)\n",
    "    z = yp * np.sin(i)\n",
    "\n",
    "    # przeliczenie współrzędnych x, y, z satelity na ϕ, λ punktu podsatelitarnego\n",
    "    ro = 180 / np.pi\n",
    "    p = np.sqrt(x * x + y * y)\n",
    "    fi = ro * np.arctan2(z, p)\n",
    "    la = ro * np.arctan2(y, x)\n",
    "    \n",
    "    \n",
    "    plot_(fi,la,interval) # rysowanie wykresu"
   ]
  },
  {
   "cell_type": "code",
   "execution_count": 6,
   "metadata": {},
   "outputs": [
    {
     "data": {
      "application/vnd.jupyter.widget-view+json": {
       "model_id": "18d239159bf64bbbb0dc63aeb62c9a75",
       "version_major": 2,
       "version_minor": 0
      },
      "text/plain": [
       "interactive(children=(IntSlider(value=26555000, description='$a [m]$', layout=Layout(height='15px', width='80%…"
      ]
     },
     "metadata": {},
     "output_type": "display_data"
    }
   ],
   "source": [
    "\n",
    "# definicja suwaków do wartości parametrów wejściowych\n",
    "lay = Layout(width='80%', height='15px')\n",
    "slider_a = Slider_int(value=26555000, min=6400000, max=51200000, step=5, description='$a [m]$', layout=lay)\n",
    "slider_e = Slider(value=0.072, min=0, max=1, step=0.000000001, description='$e [1]$', layout=lay)\n",
    "slider_i = Slider(value=63.4, min=0, max=180, step=0.1, description='$i [&deg]$', layout=lay)\n",
    "slider_M0 = Slider(value=60, min=0, max=360, step=0.1, description='$M_0 [&deg]$', layout=lay)\n",
    "slider_OMEGA0 = Slider(value=90, min=0, max=360, step=0.1, description='$\\Omega_0 [&deg]$', layout=lay)\n",
    "slider_omega = Slider(value=90, min=0, max=360, step=0.1, description='$\\omega [&deg]$', layout=lay)\n",
    "slider_T = Slider_int(value=24, min=1, max=168, step=1, description='$T [s]$', layout=lay)\n",
    "slider_interval = Slider_int(value=15, min=1, max=60, step=1, description='$\\Delta T [s]$', layout=lay)\n",
    "\n",
    "\n",
    "# wywołanie funkcji z paraametrami ustawionymi na suwakach\n",
    "i = interact(data, a=slider_a, e=slider_e, i=slider_i, M_0=slider_M0, Om_0=slider_OMEGA0, om=slider_omega, T = slider_T,\n",
    "         interval=slider_interval)"
   ]
  },
  {
   "cell_type": "code",
   "execution_count": 7,
   "metadata": {},
   "outputs": [
    {
     "data": {
      "text/plain": [
       "<mpl_toolkits.mplot3d.art3d.Poly3DCollection at 0x1ca65cdf640>"
      ]
     },
     "execution_count": 7,
     "metadata": {},
     "output_type": "execute_result"
    }
   ],
   "source": [
    "import matplotlib as mpl\n",
    "from mpl_toolkits.mplot3d import Axes3D\n",
    "fig = plt.figure()\n",
    "ax = fig.add_subplot(111, projection = '3d')\n",
    "\n",
    "u = np.linspace(0, 2 * np.pi, 100)\n",
    "v = np.linspace(0, np.pi, 100)\n",
    "x = 6371 * np.outer(np.cos(u), np.sin(v))\n",
    "y = 6371 * np.outer(np.sin(u), np.sin(v))\n",
    "z = 6356 * np.outer(np.ones(np.size(u)), np.cos(v))\n",
    "# Plot the surface\n",
    "ax.plot_surface(x, y, z, cmap = 'inferno')\n"
   ]
  },
  {
   "cell_type": "code",
   "execution_count": 34,
   "metadata": {},
   "outputs": [],
   "source": [
    "%magic"
   ]
  },
  {
   "cell_type": "code",
   "execution_count": null,
   "metadata": {},
   "outputs": [],
   "source": []
  }
 ],
 "metadata": {
  "kernelspec": {
   "display_name": "Python 3",
   "language": "python",
   "name": "python3"
  },
  "language_info": {
   "codemirror_mode": {
    "name": "ipython",
    "version": 3
   },
   "file_extension": ".py",
   "mimetype": "text/x-python",
   "name": "python",
   "nbconvert_exporter": "python",
   "pygments_lexer": "ipython3",
   "version": "3.8.8"
  }
 },
 "nbformat": 4,
 "nbformat_minor": 4
}
