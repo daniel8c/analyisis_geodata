{
 "cells": [
  {
   "cell_type": "code",
   "execution_count": 1,
   "metadata": {},
   "outputs": [],
   "source": [
    "import numpy as np\n",
    "import os"
   ]
  },
  {
   "cell_type": "code",
   "execution_count": 2,
   "metadata": {},
   "outputs": [],
   "source": [
    "os.chdir(r'C:\\aa_sem_i\\ZM\\projekt_2\\Dane_klasyfikacja')"
   ]
  },
  {
   "cell_type": "code",
   "execution_count": 5,
   "metadata": {},
   "outputs": [
    {
     "data": {
      "text/plain": [
       "array([[9.3924e-05, 9.6457e-01, 2.5381e-04, 3.5081e-02, 2.0685e-06],\n",
       "       [1.1797e-04, 9.6807e-01, 4.9497e-04, 3.1317e-02, 4.0447e-06],\n",
       "       [1.4811e-04, 9.0189e-01, 1.7215e-03, 9.6233e-02, 4.3906e-06],\n",
       "       ...,\n",
       "       [1.1093e-04, 8.1241e-02, 4.1933e-01, 4.9864e-01, 6.7808e-04],\n",
       "       [7.8014e-01, 1.9747e-01, 7.0442e-03, 1.0548e-02, 4.8033e-03],\n",
       "       [5.4837e-01, 4.2782e-01, 4.3075e-03, 1.7658e-02, 1.8450e-03]])"
      ]
     },
     "execution_count": 5,
     "metadata": {},
     "output_type": "execute_result"
    }
   ],
   "source": [
    "a = np.loadtxt('wynik.txt')\n",
    "a"
   ]
  },
  {
   "cell_type": "code",
   "execution_count": 31,
   "metadata": {},
   "outputs": [],
   "source": [
    "wsp = np.loadtxt('wsp.txt',skiprows=1)\n",
    "b = []\n",
    "for line in a:\n",
    "    sort_list = sorted(list(enumerate(line, 1)), key = lambda x: x[1])\n",
    "    value = sort_list[-1][0]\n",
    "    b.append(value)\n",
    "wynik_3 = np.column_stack((wsp, np.array(b)))\n",
    "np.savetxt('wynik_3.txt', wynik_3, '%i')"
   ]
  },
  {
   "cell_type": "code",
   "execution_count": 52,
   "metadata": {},
   "outputs": [],
   "source": [
    "wsp = np.loadtxt('wsp.txt',skiprows=1)\n",
    "wynik_3 = np.column_stack((wsp,c))\n",
    "np.savetxt('wynik_3.txt', wynik_3, '%i')"
   ]
  },
  {
   "cell_type": "code",
   "execution_count": 10,
   "metadata": {},
   "outputs": [
    {
     "name": "stdout",
     "output_type": "stream",
     "text": [
      "1\n",
      "2\n",
      "3\n",
      "4\n",
      "5\n",
      "6\n",
      "7\n",
      "8\n"
     ]
    }
   ],
   "source": [
    "import numpy as np\n",
    "\n",
    "arr = np.array([[[1, 2], [3, 4]], [[5, 6], [7, 8]]])\n",
    "\n",
    "for x in np.nditer(arr):\n",
    "  print(x)"
   ]
  }
 ],
 "metadata": {
  "kernelspec": {
   "display_name": "Python 3",
   "language": "python",
   "name": "python3"
  },
  "language_info": {
   "codemirror_mode": {
    "name": "ipython",
    "version": 3
   },
   "file_extension": ".py",
   "mimetype": "text/x-python",
   "name": "python",
   "nbconvert_exporter": "python",
   "pygments_lexer": "ipython3",
   "version": "3.8.5"
  }
 },
 "nbformat": 4,
 "nbformat_minor": 4
}
