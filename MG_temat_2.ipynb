{
 "cells": [
  {
   "cell_type": "code",
   "execution_count": 1,
   "metadata": {},
   "outputs": [
    {
     "name": "stdout",
     "output_type": "stream",
     "text": [
      "I-can't-get-no-satisfaction!\n"
     ]
    }
   ],
   "source": [
    "import re\n",
    "\n",
    "def my_replace(s,character):\n",
    "\n",
    "    # Replace all runs of whitespace with a single dash\n",
    "    s = re.sub(\"\\s+\", character, s)\n",
    "\n",
    "    return s\n",
    "\n",
    "# Prints: I-cant-get-no-satisfaction\"\n",
    "print(my_replace(\"I can't get no            satisfaction!\",'-'))"
   ]
  },
  {
   "cell_type": "code",
   "execution_count": 22,
   "metadata": {},
   "outputs": [],
   "source": [
    "def readfile(input_path, output_path):\n",
    "    '''reading from input_path, checking initial value and writing this line to output_path '''\n",
    "\n",
    "    with open(input_path,'r') as r, open(output_path, 'a') as w:\n",
    "        w.writelines(['nr\\t','x\\t','y\\t','z\\n'])\n",
    "        for line in r:\n",
    "            wart = my_replace(line,'\\t').split(',')\n",
    "            wart.append('\\n')\n",
    "            w.writelines(wart)"
   ]
  },
  {
   "cell_type": "code",
   "execution_count": 23,
   "metadata": {},
   "outputs": [],
   "source": [
    "input_path = r'C:\\aa_sem_i\\MG\\temat_2\\dane_wejsciowe\\3D\\Zadanie2\\WSP.txt'\n",
    "output_path = r'C:\\aa_sem_i\\MG\\temat_2\\dane_wejsciowe\\3D\\Zadanie2\\WSP_NOWY.TAB'\n",
    "readfile(input_path,output_path)"
   ]
  },
  {
   "cell_type": "code",
   "execution_count": null,
   "metadata": {},
   "outputs": [],
   "source": []
  }
 ],
 "metadata": {
  "kernelspec": {
   "display_name": "Python 3",
   "language": "python",
   "name": "python3"
  },
  "language_info": {
   "codemirror_mode": {
    "name": "ipython",
    "version": 3
   },
   "file_extension": ".py",
   "mimetype": "text/x-python",
   "name": "python",
   "nbconvert_exporter": "python",
   "pygments_lexer": "ipython3",
   "version": "3.8.5"
  }
 },
 "nbformat": 4,
 "nbformat_minor": 4
}
