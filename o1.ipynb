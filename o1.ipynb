{
 "cells": [
  {
   "cell_type": "code",
   "execution_count": 20,
   "metadata": {},
   "outputs": [],
   "source": [
    "import pandas as pd\n",
    "import numpy as np\n",
    "import math\n",
    "from math import sin, cos, tan, atan, sqrt, atan2,pi\n",
    "path = r'C:\\a_sem_ii\\SNS\\temat_5_o1\\o_1_kat.txt'"
   ]
  },
  {
   "cell_type": "code",
   "execution_count": 21,
   "metadata": {
    "scrolled": true
   },
   "outputs": [
    {
     "data": {
      "text/plain": [
       "array([ 2.40000000e+01,  1.50000000e+01,  6.00000000e+00,  6.00000000e+00,\n",
       "        1.20000000e+01,  0.00000000e+00,  0.00000000e+00, -4.94960696e-05,\n",
       "       -6.82121026e-13,  0.00000000e+00,  9.80000000e+01,  9.08437500e+01,\n",
       "        4.58876270e-09,  2.03977848e+00,  4.74229455e-06,  3.24033631e-03,\n",
       "        9.40449536e-06,  5.15367776e+03,  5.61600000e+05, -8.56816769e-08,\n",
       "        1.06373984e+00,  8.94069672e-08,  9.53438415e-01,  1.95500000e+02,\n",
       "        3.61536369e-01, -8.05712119e-09, -4.71448193e-11,  1.00000000e+00,\n",
       "        1.84700000e+03,  0.00000000e+00,  2.00000000e+00,  0.00000000e+00,\n",
       "        2.32830644e-09,  9.80000000e+01,  5.54340000e+05,  0.00000000e+00])"
      ]
     },
     "execution_count": 21,
     "metadata": {},
     "output_type": "execute_result"
    }
   ],
   "source": [
    "value = np.loadtxt(path)\n",
    "value"
   ]
  },
  {
   "cell_type": "code",
   "execution_count": 22,
   "metadata": {},
   "outputs": [],
   "source": [
    "param = ['prn', 'rok','miesiac','dzien','godz','min','sek','a0','a1','a2','IODE','Crs','DELTAn','M0','Cuc','e','Cus','sqrt(A)','Toe','Cic','OMEGA0','Cis','I0','Crc','omega','OMEGADOT','Idot','L2','week','L2P','Accur','Health','Tgd','IODC','T_transm','fit']\n",
    "rinex = dict(zip(param,value))"
   ]
  },
  {
   "cell_type": "code",
   "execution_count": 23,
   "metadata": {},
   "outputs": [
    {
     "data": {
      "text/plain": [
       "(24.0, 2015.0, 6.0, 6.0)"
      ]
     },
     "execution_count": 23,
     "metadata": {},
     "output_type": "execute_result"
    }
   ],
   "source": [
    "prn = rinex['prn']\n",
    "rok = 2000+rinex['rok']\n",
    "mies = rinex['miesiac']\n",
    "dzien = rinex['dzien']\n",
    "\n",
    "#czas rinex\n",
    "godz_r = rinex['godz']\n",
    "minuta_r = rinex['min']\n",
    "sek_r = rinex['sek']\n",
    "\n",
    "\n",
    "a0 = rinex['a0']\n",
    "a1 = rinex['a1']\n",
    "a2 = rinex['a2']\n",
    "\n",
    "#tsv liczymy od niedzieli (z sob na ndz) do dnia tygodnia+godziny\n",
    "\n",
    "\n",
    "\n",
    "\n",
    "Crs = rinex['Crs'] #metry\n",
    "dn = rinex['DELTAn'] #semi-circles/sec\n",
    "Cuc = rinex['Cuc'] #rad\n",
    "e = rinex['e']#dimensionals\n",
    "sqrtA = rinex['sqrt(A)'] #sqrt(metr)\n",
    "toe = rinex['Toe'] #sec\n",
    "Cic = rinex['Cic'] #rad\n",
    "omega0 = rinex['OMEGA0'] #semi-circles\n",
    "Cis = rinex['Cis'] # radians\n",
    "i0 = rinex['I0'] # semi-circles\n",
    "Cre = rinex['Crc'] #meters\n",
    "omega = rinex['omega'] # semi - circles\n",
    "omegadot = rinex['OMEGADOT'] #semi - circles/sec\n",
    "m0 = rinex['M0']\n",
    "Cus = rinex['Cus']\n",
    "Crc = rinex['Crc']\n",
    "Idot = rinex['Idot']\n",
    "\n",
    "prn, rok, mies, dzien"
   ]
  },
  {
   "cell_type": "code",
   "execution_count": 48,
   "metadata": {},
   "outputs": [
    {
     "data": {
      "text/plain": [
       "(561600.0, 558840, -2760.0)"
      ]
     },
     "execution_count": 48,
     "metadata": {},
     "output_type": "execute_result"
    }
   ],
   "source": [
    "u = 3.986005*10**14\n",
    "omega_e = 7.2921151467*10**-5\n",
    "\n",
    "#Czas na który liczymy\n",
    "dzien_tyg_tsv = 6\n",
    "godz_tsv = 11\n",
    "min_tsv = 14\n",
    "tsv = dzien_tyg_tsv*24*60*60+godz_tsv*60*60+min_tsv*60\n",
    "\n",
    "#czas rinex\n",
    "godz_r = rinex['godz']\n",
    "minuta_r = rinex['min']\n",
    "sek_r = rinex['sek']\n",
    "toc = dzien_tyg_tsv*24*60*60+godz_r*60*60+minuta_r*60\n",
    "\n",
    "dts = tsv-toc\n",
    "\n",
    "dt = a0 + a1*(dts)+ a2*(dts)**2\n",
    "t = tsv - dt\n",
    "toc, tsv, dts"
   ]
  },
  {
   "cell_type": "code",
   "execution_count": 49,
   "metadata": {},
   "outputs": [],
   "source": [
    "A = sqrtA**2\n",
    "n0 = math.sqrt(u/A**3)\n",
    "tk = dts-dt\n",
    "n = n0+dn\n",
    "mk = m0+n*tk"
   ]
  },
  {
   "cell_type": "code",
   "execution_count": 50,
   "metadata": {},
   "outputs": [
    {
     "data": {
      "text/plain": [
       "(24, 561600, 558840, 17286078.463, 4562510.659, 19650377.495)"
      ]
     },
     "execution_count": 50,
     "metadata": {},
     "output_type": "execute_result"
    }
   ],
   "source": [
    "Ek = 0\n",
    "Ek_1 = 10\n",
    "while abs(Ek-Ek_1) >10**-15:\n",
    "    Ek_1 = Ek\n",
    "    Ek = mk + e*sin(Ek)\n",
    "\n",
    "licznik_vk = ((sqrt(1-e**2))*sin(Ek))/(1-e*cos(Ek))\n",
    "mianownik_vk = (cos(Ek)-e)/(1-e*cos(Ek))\n",
    "vk = atan2(licznik_vk,mianownik_vk)\n",
    "\n",
    "fik = vk+omega\n",
    "duk = Cus*sin(2*fik)+Cuc*cos(2*fik)\n",
    "drk = Crs*sin(2*fik)+Crc*cos(2*fik)\n",
    "dik = Cis*sin(2*fik)+Cic*cos(2*fik)\n",
    "\n",
    "uk = fik+duk\n",
    "rk = A*(1-e*cos(Ek))+drk\n",
    "ik = i0+dik+Idot*tk\n",
    "\n",
    "xkp = rk*cos(uk)\n",
    "ykp = rk*sin(uk)\n",
    "\n",
    "omk = omega0 + (omegadot-omega_e)*tk-omega_e*toc+4*2*pi\n",
    "xk = xkp*cos(omk)-ykp*cos(ik)*sin(omk)\n",
    "yk = xkp*sin(omk) + ykp*cos(ik)*cos(omk)\n",
    "zk = ykp*sin(ik)\n",
    "round(prn),round(toc), round(tsv,0), round(xk,3),round(yk,3),round(zk,3)"
   ]
  },
  {
   "cell_type": "code",
   "execution_count": null,
   "metadata": {},
   "outputs": [],
   "source": []
  },
  {
   "cell_type": "code",
   "execution_count": null,
   "metadata": {},
   "outputs": [],
   "source": []
  }
 ],
 "metadata": {
  "kernelspec": {
   "display_name": "Python 3 (ipykernel)",
   "language": "python",
   "name": "python3"
  },
  "language_info": {
   "codemirror_mode": {
    "name": "ipython",
    "version": 3
   },
   "file_extension": ".py",
   "mimetype": "text/x-python",
   "name": "python",
   "nbconvert_exporter": "python",
   "pygments_lexer": "ipython3",
   "version": "3.9.7"
  }
 },
 "nbformat": 4,
 "nbformat_minor": 4
}
