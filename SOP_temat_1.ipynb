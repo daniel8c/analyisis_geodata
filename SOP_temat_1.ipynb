{
 "cells": [
  {
   "cell_type": "code",
   "execution_count": 1,
   "metadata": {},
   "outputs": [],
   "source": [
    "import os\n",
    "current_directory = r'C:/aa_sem_i/SOP/temat_1/dane_wejsciowe'\n",
    "os.chdir(current_directory)\n",
    "import pandas as pd\n",
    "import numpy as np\n",
    "import matplotlib.pyplot as plt\n",
    "import math\n",
    "import mpmath"
   ]
  },
  {
   "cell_type": "code",
   "execution_count": 2,
   "metadata": {},
   "outputs": [],
   "source": [
    "R = 6371000\n",
    "ro = np.pi/180"
   ]
  },
  {
   "cell_type": "code",
   "execution_count": 3,
   "metadata": {},
   "outputs": [],
   "source": [
    "wsp_pow = np.loadtxt('wsp_pow.txt')\n",
    "f,l = wsp_pow[:,0]+wsp_pow[:,1]/60+wsp_pow[:,2]/3600, wsp_pow[:,3]+wsp_pow[:,4]/60+wsp_pow[:,5]/3600\n",
    "p0 = np.array([f[0],l[0]])\n",
    "f0_rad, l0_rad = np.radians(p0)\n",
    "f, l = f[1:],l[1:]\n",
    "f_rad, l_rad = f*ro, l*ro"
   ]
  },
  {
   "cell_type": "code",
   "execution_count": 4,
   "metadata": {},
   "outputs": [
    {
     "data": {
      "text/plain": [
       "(array([3445768.53203705, 3451004.13847705, 3457376.5137754 ,\n",
       "        3451858.58816121, 3452679.23678304, 3443418.16506686,\n",
       "        3435366.06743807, 3428774.72092856, 3422107.06446313,\n",
       "        3435211.50618445]),\n",
       " array([1387499.82407236, 1393362.08672747, 1396987.77346137,\n",
       "        1405925.54288774, 1412860.57283002, 1425098.03329274,\n",
       "        1430571.59727711, 1439251.20546833, 1437955.23150672,\n",
       "        1411257.09300785]),\n",
       " array([5176018.20532177, 5170952.86494518, 5165715.22664517,\n",
       "        5166980.41947069, 5164539.87201471, 5167359.86128243,\n",
       "        5171205.45789462, 5173171.25955436, 5177944.47551671,\n",
       "        5176612.43722311]))"
      ]
     },
     "execution_count": 4,
     "metadata": {},
     "output_type": "execute_result"
    }
   ],
   "source": [
    "X = R*np.cos(f_rad)*np.cos(l_rad)\n",
    "Y = R*np.cos(f_rad)*np.sin(l_rad)\n",
    "Z = R*np.sin(f_rad)\n",
    "X,Y,Z"
   ]
  },
  {
   "cell_type": "code",
   "execution_count": 9,
   "metadata": {},
   "outputs": [
    {
     "data": {
      "text/plain": [
       "array([ 87339.0734808 ,  84413.36244829,  80167.73204352,  90201.09949344,\n",
       "        93747.37952641, 109253.47084189, 119388.99403325, 130381.83936842,\n",
       "       135188.30047605, 108405.48128115])"
      ]
     },
     "execution_count": 9,
     "metadata": {},
     "output_type": "execute_result"
    }
   ],
   "source": [
    "a = np.arctan2(np.sin(l_rad-l0_rad), np.tan(f_rad)*np.cos(f0_rad) - np.cos(l_rad-l0_rad)*np.sin(f0_rad))\n",
    "d = np.arcsin(np.sin(l_rad-l0_rad)*np.cos(f_rad)/np.sin(a))\n",
    "d*R"
   ]
  },
  {
   "cell_type": "code",
   "execution_count": 6,
   "metadata": {},
   "outputs": [
    {
     "data": {
      "text/plain": [
       "'h = np.arcsin(np.sin(l_rad-l0_rad)*np.cos(f_rad))\\ng = mpmath.acot(np.cos(l_rad-l0_rad)*(1/np.tan(f_rad)))\\ng*R\\nh*R'"
      ]
     },
     "execution_count": 6,
     "metadata": {},
     "output_type": "execute_result"
    }
   ],
   "source": [
    "'''h = np.arcsin(np.sin(l_rad-l0_rad)*np.cos(f_rad))\n",
    "g = mpmath.acot(np.cos(l_rad-l0_rad)*(1/np.tan(f_rad)))\n",
    "g*R\n",
    "h*R'''"
   ]
  },
  {
   "cell_type": "code",
   "execution_count": null,
   "metadata": {},
   "outputs": [],
   "source": []
  }
 ],
 "metadata": {
  "kernelspec": {
   "display_name": "Python 3",
   "language": "python",
   "name": "python3"
  },
  "language_info": {
   "codemirror_mode": {
    "name": "ipython",
    "version": 3
   },
   "file_extension": ".py",
   "mimetype": "text/x-python",
   "name": "python",
   "nbconvert_exporter": "python",
   "pygments_lexer": "ipython3",
   "version": "3.8.5"
  }
 },
 "nbformat": 4,
 "nbformat_minor": 4
}
