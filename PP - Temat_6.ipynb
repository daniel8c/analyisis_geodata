{
 "cells": [
  {
   "cell_type": "code",
   "execution_count": null,
   "id": "44f9d8ad",
   "metadata": {
    "scrolled": false
   },
   "outputs": [
    {
     "name": "stdout",
     "output_type": "stream",
     "text": [
      "Podaj nazwe pliku z danymi z IBIS-a (data.xls): most_freq.xls\n"
     ]
    },
    {
     "name": "stderr",
     "output_type": "stream",
     "text": [
      "<ipython-input-3-210b17f2cea7>:26: DeprecationWarning: `np.float` is a deprecated alias for the builtin `float`. To silence this warning, use `float` by itself. Doing this will not modify any behavior and is safe. If you specifically wanted the numpy scalar type, use `np.float64` here.\n",
      "Deprecated in NumPy 1.20; for more details and guidance: https://numpy.org/devdocs/release/1.20.0-notes.html#deprecations\n",
      "  data[row, column] = data_array[row, column].astype(np.float)\n"
     ]
    },
    {
     "name": "stdout",
     "output_type": "stream",
     "text": [
      "Czas rozpoczecia: 1260.00946 s\n",
      "Czas zakonczenia: 1319.982676 s\n",
      "Liczba probek: 5978\n",
      "Czestotliwosc probkowania: 99.67782951642931 Hz\n",
      "Podaj numer Rangebina do analizy: 5\n"
     ]
    },
    {
     "data": {
      "image/png": "[encoded data removed]",
      "text/plain": [
       "<Figure size 432x288 with 1 Axes>"
      ]
     },
     "metadata": {
      "needs_background": "light"
     },
     "output_type": "display_data"
    },
    {
     "data": {
      "image/png": "[encoded data removed]",
      "text/plain": [
       "<Figure size 432x288 with 1 Axes>"
      ]
     },
     "metadata": {
      "needs_background": "light"
     },
     "output_type": "display_data"
    },
    {
     "name": "stdout",
     "output_type": "stream",
     "text": [
      "PEAK INDICES:  [  6  23  44 122 167 177 182 319 328]\n",
      "PEAK FREQUENCIES:  [0.10007814 0.38363288 0.73390638 2.03492222 2.78550829 2.95230519\n",
      " 3.03570364 5.32082122 5.47093843]\n"
     ]
    }
   ],
   "source": [
    "import csv\n",
    "import matplotlib.pyplot as plt\n",
    "import numpy as np\n",
    "import pandas as pd\n",
    "#import scipy\n",
    "from scipy.optimize import curve_fit\n",
    "from scipy.signal import find_peaks\n",
    "from scipy.signal import peak_prominences\n",
    "from scipy.signal import butter\n",
    "from scipy.signal import filtfilt\n",
    "import os\n",
    "os.chdir(r'C:\\a_sem_i\\PP\\temat_6_drgania\\dane_wejsciowe')\n",
    "\n",
    "\n",
    "def read_ibis_data(filename):\n",
    "    with open(filename, 'r') as f:\n",
    "        reader = csv.reader(f, delimiter='\\t')\n",
    "        counts = sum(1 for row in reader)\n",
    "    with open(filename, 'r') as f:\n",
    "        reader = csv.reader(f, delimiter='\\t')\n",
    "        data_raw = [row for idx, row in enumerate(reader) if idx in range(3, counts)]\n",
    "    data_array = np.asarray(data_raw)\n",
    "    data = np.zeros((data_array.shape[0], data_array.shape[1] - 1))\n",
    "    for row in range(data_array.shape[0]):\n",
    "        for column in range(data_array.shape[1] - 1):\n",
    "            data[row, column] = data_array[row, column].astype(np.float)\n",
    "    N = counts - 3\n",
    "    return data, N\n",
    "\n",
    "def damped_oscillator(x, a, b, w, f):\n",
    "    return a * np.exp(-b * x) * np.sin(w * x + f)\n",
    "\n",
    "def damping_function(x, a, b):\n",
    "    return a * np.exp(-b * x)\n",
    "\n",
    "def lowpass_filter(data, cutoff, fs, order):\n",
    "    normal_cutoff = cutoff/nyq\n",
    "    b, a = butter(order, normal_cutoff, btype='low', analog=False)\n",
    "    y = filtfilt(b, a, data)\n",
    "    return y\n",
    "\n",
    "\n",
    "filename = input('Podaj nazwe pliku z danymi z IBIS-a (data.xls): ')\n",
    "data, N = read_ibis_data(filename)\n",
    "\n",
    "print(f'Czas rozpoczecia: {data[0, 0]} s')\n",
    "print(f'Czas zakonczenia: {data[N-1, 0]} s')\n",
    "print(f'Liczba probek: {N}')\n",
    "\n",
    "Ts = (data[N-1, 0] - data[0, 0])/N              # okres probkowania\n",
    "nyq = 0.5/Ts                                    # czestotliwosc Nyquista\n",
    "print(f'Czestotliwosc probkowania: {1/Ts} Hz')\n",
    "\n",
    "bin_idx = int(input('Podaj numer Rangebina do analizy: '))\n",
    "\n",
    "x = np.linspace(0.0, N*Ts, N)\n",
    "y = data[:, bin_idx] - np.mean(data[:, bin_idx])\n",
    "yf = np.fft.fft(y)\n",
    "spectrum = np.abs(yf[:N//2])\n",
    "xf = np.linspace(0.0, nyq, N//2)\n",
    "thresh = 0.002 * max(spectrum)\n",
    "peaks, _ = find_peaks(spectrum, prominence=(thresh, None))\n",
    "\n",
    "plt.plot(x, y)\n",
    "plt.show()\n",
    "plt.plot(xf, spectrum)\n",
    "plt.plot(peaks/Ts/(N-2), spectrum[peaks], \"x\")\n",
    "# plt.xlim(0,10)\n",
    "plt.show()\n",
    "pp = peak_prominences(spectrum, peaks)\n",
    "print('PEAK INDICES: ', peaks)\n",
    "peaks_scaled = peaks/Ts/(N-2)\n",
    "print('PEAK FREQUENCIES: ', peaks_scaled)\n",
    "\n",
    "if_damp = int(input('\\nCzy wpasowac oscylator tlumiony? (1-tak, 0-nie): '))\n",
    "\n",
    "if if_damp:\n",
    "    params, params_cov = curve_fit(damped_oscillator, x, y)\n",
    "    plt.scatter(x, y, marker='+', label='Data')\n",
    "    plt.plot(x, damped_oscillator(x, params[0], params[1], params[2], params[3]), label='Fitted function')\n",
    "    plt.plot(x, damping_function(x, params[0], params[1]))\n",
    "    plt.show()\n",
    "\n",
    "if_filt = int(input('\\nCzy zastosowac filtr dolnoprzepustowy? (1-tak, 0-nie): '))\n",
    "\n",
    "if if_filt:\n",
    "    yb = lowpass_filter(y, cutoff=0.7, fs=1/Ts, order=2)\n",
    "    plt.scatter(x, y, marker='.', label='Data')\n",
    "    plt.scatter(x, yb, marker='+', label='Data filtered')\n",
    "    plt.show()\n"
   ]
  },
  {
   "cell_type": "code",
   "execution_count": null,
   "id": "dcf3f506",
   "metadata": {},
   "outputs": [],
   "source": []
  }
 ],
 "metadata": {
  "kernelspec": {
   "display_name": "Python 3",
   "language": "python",
   "name": "python3"
  },
  "language_info": {
   "codemirror_mode": {
    "name": "ipython",
    "version": 3
   },
   "file_extension": ".py",
   "mimetype": "text/x-python",
   "name": "python",
   "nbconvert_exporter": "python",
   "pygments_lexer": "ipython3",
   "version": "3.8.8"
  }
 },
 "nbformat": 4,
 "nbformat_minor": 5
}
