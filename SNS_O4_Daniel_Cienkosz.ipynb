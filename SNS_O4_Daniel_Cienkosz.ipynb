{
 "cells": [
  {
   "cell_type": "markdown",
   "id": "6030a87b",
   "metadata": {},
   "source": [
    "# Wyznaczenie pozycji względnej na podstawie danych obserwacyjnych GPS"
   ]
  },
  {
   "cell_type": "markdown",
   "id": "02fc92df",
   "metadata": {},
   "source": [
    "### Instalacja georinex"
   ]
  },
  {
   "cell_type": "code",
   "execution_count": 2,
   "id": "94927979",
   "metadata": {
    "scrolled": true
   },
   "outputs": [
    {
     "name": "stdout",
     "output_type": "stream",
     "text": [
      "Requirement already satisfied: georinex in c:\\users\\danielcienkosz\\anaconda3\\lib\\site-packages (1.16.1)\n",
      "Requirement already satisfied: hatanaka in c:\\users\\danielcienkosz\\anaconda3\\lib\\site-packages (from georinex) (2.5.0)\n",
      "Requirement already satisfied: numpy in c:\\users\\danielcienkosz\\anaconda3\\lib\\site-packages (from georinex) (1.20.3)\n",
      "Requirement already satisfied: python-dateutil in c:\\users\\danielcienkosz\\anaconda3\\lib\\site-packages (from georinex) (2.8.2)\n",
      "Requirement already satisfied: unlzw3 in c:\\users\\danielcienkosz\\anaconda3\\lib\\site-packages (from georinex) (0.2.1)\n",
      "Requirement already satisfied: xarray>=0.11 in c:\\users\\danielcienkosz\\anaconda3\\lib\\site-packages (from georinex) (0.20.2)\n",
      "Requirement already satisfied: pandas>=1.1 in c:\\users\\danielcienkosz\\anaconda3\\lib\\site-packages (from xarray>=0.11->georinex) (1.3.4)\n",
      "Requirement already satisfied: pytz>=2017.3 in c:\\users\\danielcienkosz\\anaconda3\\lib\\site-packages (from pandas>=1.1->xarray>=0.11->georinex) (2021.3)\n",
      "Requirement already satisfied: six>=1.5 in c:\\users\\danielcienkosz\\anaconda3\\lib\\site-packages (from python-dateutil->georinex) (1.16.0)\n",
      "Requirement already satisfied: importlib-resources in c:\\users\\danielcienkosz\\anaconda3\\lib\\site-packages (from hatanaka->georinex) (5.4.0)\n",
      "Requirement already satisfied: ncompress in c:\\users\\danielcienkosz\\anaconda3\\lib\\site-packages (from hatanaka->georinex) (1.0.0)\n",
      "Requirement already satisfied: zipp>=3.1.0 in c:\\users\\danielcienkosz\\anaconda3\\lib\\site-packages (from importlib-resources->hatanaka->georinex) (3.6.0)\n"
     ]
    }
   ],
   "source": [
    "!pip install georinex"
   ]
  },
  {
   "cell_type": "markdown",
   "id": "2510a49d",
   "metadata": {},
   "source": [
    "### Funkcja XYZGPS:"
   ]
  },
  {
   "cell_type": "code",
   "execution_count": 1,
   "id": "b464c584",
   "metadata": {},
   "outputs": [],
   "source": [
    "def XYZGPS(v, ts):\n",
    "    # stałe\n",
    "    u = 3.986005*10**14 # iloczyn stałej grawitacji i masy Ziemi\n",
    "    omega_e = 7.2921151467*10**-5 \n",
    "\n",
    "    tk = ts - v.Toe # epoka końcowa dla parametrów efemerydalnych\n",
    "\n",
    "    a = v.sqrtA**2 # duża półoś orbity\n",
    "    n0 = sqrt(u/a**3) # ruch średni\n",
    "    n = n0+v.DeltaN # skorygowany ruch średni\n",
    "    Mk = v.M0+n*tk # średnia anomalia\n",
    "\n",
    "    E0 = Mk\n",
    "    E1 = 100\n",
    "\n",
    "    while all(abs(E0-E1)) > 10**-15:\n",
    "        E1 = E0\n",
    "        E0 = Mk + v.Eccentricity*sin(E0)\n",
    "\n",
    "    L = sqrt(1-v.Eccentricity**2)*sin(E0)\n",
    "    M = cos(E0)-v.Eccentricity\n",
    "    fi = arctan2(L,M)\n",
    "\n",
    "    vk = fi # prawdziwa anomalia\n",
    "\n",
    "    fik = vk+v.omega # argument szerokości\n",
    "    \n",
    "    #perturbacje harmoniczne\n",
    "    duk = v.Cus*sin(2*fik)+v.Cuc*cos(2*fik) # argument korekty szerokości\n",
    "    drk = v.Crs*sin(2*fik)+v.Crc*cos(2*fik) # promień\n",
    "    dik = v.Cis*sin(2*fik)+v.Cic*cos(2*fik) # nachylenie\n",
    "\n",
    "    uk = fik + duk # poprawiony argument\n",
    "    rk = a*(1-v.Eccentricity*cos(E0)) + drk # promień\n",
    "    ik = v.Io+dik+v.IDOT*tk # nachylenie\n",
    "    \n",
    "    # pozycja w płaszczyźnie orbitalnej\n",
    "    xkp = rk*cos(uk) \n",
    "    ykp = rk*sin(uk)\n",
    "\n",
    "    omk = v.Omega0 + (v.OmegaDot-omega_e) * tk - omega_e * v.Toe # poprawiona długość węzła wstępującego\n",
    "\n",
    "    # współrzędne odbiornika\n",
    "    xk = xkp*cos(omk)-ykp*cos(ik)*sin(omk) \n",
    "    yk = xkp*sin(omk) + ykp*cos(ik)*cos(omk)\n",
    "    zk = ykp*sin(ik)\n",
    "\n",
    "    return xarray.DataArray([xk.values, yk.values, zk.values])"
   ]
  },
  {
   "cell_type": "markdown",
   "id": "ad89d3e0",
   "metadata": {},
   "source": [
    "### Funckja wykonująca iteracje"
   ]
  },
  {
   "cell_type": "code",
   "execution_count": 2,
   "id": "d54f144e",
   "metadata": {},
   "outputs": [],
   "source": [
    "def obl_iter(dt0, x0, y0, z0, x, y, z):\n",
    "    \n",
    "    p0 = sqrt((x-x0)**2 + (y-y0)**2 + (z-z0)**2).to_numpy()\n",
    "    A = np.array([-(x-x0)/p0, -(y-y0)/p0, -(z-z0)/p0, [1 for i in range(5)]]).T\n",
    "    L = P - p0\n",
    "    x = lstsq(A, L, rcond = -1)[0]\n",
    "    xp, yp, zp, dt0 = [x0, y0, z0, dt0] + x\n",
    "    dx, dy, dz = xp - x0, yp - y0, zp - z0\n",
    "    x0, y0, z0, = xp, yp, zp\n",
    "    \n",
    "    return x0, y0, z0, dt0, dx, dy, dz, A"
   ]
  },
  {
   "cell_type": "markdown",
   "id": "8e22eb8e",
   "metadata": {},
   "source": [
    "## SKRYPT GŁÓWNY"
   ]
  },
  {
   "cell_type": "code",
   "execution_count": 3,
   "id": "f8ceea23",
   "metadata": {},
   "outputs": [
    {
     "name": "stdout",
     "output_type": "stream",
     "text": [
      "współrzędne x, y, z po 2 iteracji wynoszą [m]: 3856950.8382, 1397784.684, 4867745.3755\n",
      "Różnica dx, dy, dz między współrzędnymi przybliżonymi i obliczonymi w 2 iteracji w [m]:\n",
      " 14.677, 34.2078, 25.9448\n"
     ]
    }
   ],
   "source": [
    "import xarray\n",
    "import georinex as gr\n",
    "from pandas import Timestamp as tsp\n",
    "import numpy as np\n",
    "from numpy import sin, cos, sqrt, arctan2, pi, arctan, abs\n",
    "from numpy.linalg import lstsq\n",
    "\n",
    "# Stale\n",
    "n = 4\n",
    "c = 299792458\n",
    "\n",
    "# Wczytanie danych obserwacyjnych i nawigacyjnych\n",
    "obs = gr.load(r'./KRAW135N.11o')\n",
    "nav = gr.load(r'./KRAW135N.11n')\n",
    "\n",
    "# [2] Dane obserwacyjne:\n",
    "P = obs.isel({'time':n-1}).C1.dropna('sv').isel({'sv': [i for i in range(5)]}) #pomierzone pseudoodległości\n",
    "PRN = list(P.get_index('sv')) # lista numerów PRN 05, 07, 08, 15, 19\n",
    "\n",
    "epoka = tsp(P.time.values) # epoka odbioru sygnału\n",
    "x0,y0,z0 = obs.position # przybliżone współrzędne odbiornika odczytane z nagłówka zbioru KRAW135N.11o\n",
    "\n",
    "# [3] Obliczenie epoki odbioru sygnału tr, jako liczby sekund od początku tygodnia GPS\n",
    "GPSD = int(epoka.to_julian_date() - tsp('1980-01-6T0:00:00').to_julian_date())%7 # numer dnia w tygodniu GPS\n",
    "tr = GPSD*86400 + epoka.hour * 3600 + epoka.minute*60 + epoka.second # Epoka odbioru sygnału\n",
    "\n",
    "# [4] Obliczanie epok emisji sygnału\n",
    "ts = tr - (P/c)\n",
    "\n",
    "# [5] Wczytanie danych efemerydalnych  najbliższych epoce tr  (KRAW135N_SM.11n)\n",
    "epoka_nav = epoka.round('2H')\n",
    "v = nav.loc[{'time': epoka_nav, 'sv': PRN}]\n",
    "\n",
    "# [6] Obliczenie współrzędnych satelitów na epokę emisji sygnału\n",
    "x, y, z = XYZGPS(v, ts)\n",
    "\n",
    "# [7] Obliczenie poprawek zegarów satelitów\n",
    "dt = v.SVclockBias + v.SVclockDrift*(ts - v.Toe) + v.SVclockDriftRate*(ts - v.Toe)**2\n",
    "\n",
    "# [8] Obliczenie poprawionych pseudoodległości\n",
    "P += c*dt\n",
    "P = P.to_numpy()\n",
    "\n",
    "# [9] obliczanie iteracyjne\n",
    "dt0 = 0\n",
    "xp, yp, zp = x0,y0,z0\n",
    "for i in range(3):\n",
    "    x0, y0, z0, dt0, dx, dy, dz, A = obl_iter(dt0, x0, y0, z0, x, y, z)\n",
    "    \n",
    "print(f'współrzędne x, y, z po 2 iteracji wynoszą [m]: {round(x0,4)}, {round(y0,4)}, {round(z0,4)}')\n",
    "print(f'Różnica dx, dy, dz między współrzędnymi przybliżonymi i obliczonymi w 2 iteracji w [m]:\\n {round(x0-xp, 4)}, {round(y0-yp, 4)}, {round(z0-zp, 4)}')"
   ]
  },
  {
   "cell_type": "markdown",
   "id": "e3167d43",
   "metadata": {},
   "source": [
    "## Ćwiczenie o4"
   ]
  },
  {
   "cell_type": "code",
   "execution_count": 4,
   "id": "be8fc9ec",
   "metadata": {},
   "outputs": [
    {
     "name": "stdout",
     "output_type": "stream",
     "text": [
      "2.806813142796528\n"
     ]
    },
    {
     "data": {
      "text/plain": [
       "(2.806813142796528, 1.2734995229855575, 2.501279469297839)"
      ]
     },
     "execution_count": 4,
     "metadata": {},
     "output_type": "execute_result"
    }
   ],
   "source": [
    "from numpy.linalg import inv\n",
    "A\n",
    "xp,yp,zp\n",
    "\n",
    "# Współczynniki DOP w układzie geocentrycznym\n",
    "Q = inv(A.T@A)\n",
    "GDOP = sqrt(Q[0,0]+Q[1,1]+Q[2,2]+Q[3,3]) # geometryczny\n",
    "PDOP = sqrt(Q[0,0]+Q[1,1]+Q[2,2]) # czasowy\n",
    "TDOP = sqrt(Q[3,3]) # przestrzenny\n",
    "print(PDOP)\n",
    "\n",
    "# Wspołczynniki DOP w układzie topocentrycznym \n",
    "a = 6378137\n",
    "b = 6356752.31425\n",
    "e = sqrt((a**2-b**2)/a**2)\n",
    "ep = sqrt((a**2-b**2)/b**2)\n",
    "p = sqrt(xp**2+yp**2)\n",
    "om = arctan(zp*a/p*b)\n",
    "fi = arctan((zp+ep**2*b*sin(om)**3)/(p-e**2*a*cos(om)**3))\n",
    "lamb = arctan(yp/xp)\n",
    "\n",
    "Q = Q[:3,:3]\n",
    "\n",
    "R = np.array([[-sin(fi)*cos(lamb), -sin(fi)*(sin(lamb)), cos(fi)],\n",
    "     [-sin(lamb), cos(lamb), 0], \n",
    "    [cos(fi)*cos(lamb), cos(fi)*sin(lamb), sin(fi)]])\n",
    "\n",
    "Qn = R@Q@R.T\n",
    "\n",
    "GDOP = sqrt(Qn[0,0]+Qn[1,1]+Qn[2,2])\n",
    "HDOP = sqrt(Qn[0,0]+Qn[1,1])\n",
    "VDOP = sqrt(Qn[2,2])\n",
    "\n",
    "GDOP, HDOP, VDOP"
   ]
  },
  {
   "cell_type": "code",
   "execution_count": 38,
   "id": "75380d4c",
   "metadata": {},
   "outputs": [
    {
     "data": {
      "text/plain": [
       "array([[-0.05900322, -0.66569879, -0.74388422,  1.        ],\n",
       "       [-0.58816965,  0.02018203, -0.80848571,  1.        ],\n",
       "       [ 0.67454917, -0.29355448, -0.67735455,  1.        ],\n",
       "       [-0.27109574,  0.64096604, -0.71810141,  1.        ],\n",
       "       [-0.98862944,  0.14053438,  0.05349696,  1.        ]])"
      ]
     },
     "execution_count": 38,
     "metadata": {},
     "output_type": "execute_result"
    }
   ],
   "source": [
    "A"
   ]
  },
  {
   "cell_type": "code",
   "execution_count": null,
   "id": "e5b683d8",
   "metadata": {},
   "outputs": [],
   "source": []
  }
 ],
 "metadata": {
  "kernelspec": {
   "display_name": "Python 3 (ipykernel)",
   "language": "python",
   "name": "python3"
  },
  "language_info": {
   "codemirror_mode": {
    "name": "ipython",
    "version": 3
   },
   "file_extension": ".py",
   "mimetype": "text/x-python",
   "name": "python",
   "nbconvert_exporter": "python",
   "pygments_lexer": "ipython3",
   "version": "3.9.7"
  }
 },
 "nbformat": 4,
 "nbformat_minor": 5
}
