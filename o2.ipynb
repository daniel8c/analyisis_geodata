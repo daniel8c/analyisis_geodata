{
 "cells": [
  {
   "cell_type": "code",
   "execution_count": 1,
   "id": "0a34088d",
   "metadata": {},
   "outputs": [],
   "source": [
    "import numpy as np\n",
    "from math import sin, cos, atan2, sqrt"
   ]
  },
  {
   "cell_type": "code",
   "execution_count": 25,
   "id": "97354942",
   "metadata": {},
   "outputs": [],
   "source": [
    "value = np.loadtxt('./moje_dane.txt')\n",
    "value = value*1000\n",
    "param = ['sh','year','month','day','hour', 'minuts', 'sec', 'x', 'u', 'd2x', 'y', 'v', 'd2y', 'z', 'w', 'd2z']\n",
    "rinex = dict(zip(param,value))"
   ]
  },
  {
   "cell_type": "code",
   "execution_count": 27,
   "id": "9b8d7a51",
   "metadata": {},
   "outputs": [
    {
     "name": "stdout",
     "output_type": "stream",
     "text": [
      "45900.0 -2730.002403259 -286.3874435425 1781.465530396 12014235.8398 10254595.7031 20038555.1758\n",
      "45849.0 -2716.3260656277935 -296.86991515602153 1805.931665888475 12153118.1089 10269469.258 19947076.0709\n",
      "45798.0 -2702.440358201412 -307.23554014654144 1830.2849477579455 12291297.5392 10284874.4481 19854352.0644\n",
      "45747.0 -2688.346832976215 -317.4822628371828 1854.5238593019208 12428763.4925 10300805.2617 19760388.9505\n",
      "45696.0 -2674.0470672145816 -327.60804497156437 1878.6468909542396 12565505.41 10317255.5829 19665192.6007\n",
      "21, 45900, 45696, 12565505.41, 10317255.583, 19665192.601\n"
     ]
    }
   ],
   "source": [
    "# stale\n",
    "GM = 398600.4418e+9\n",
    "ae = 6378136\n",
    "C20 = -1082625.7e-9\n",
    "omega = 7.292115e-5\n",
    "\n",
    "\n",
    "#dane poczatkowe\n",
    "x = rinex['x']\n",
    "y = rinex['y']\n",
    "z = rinex['z']\n",
    "\n",
    "u = rinex['u']\n",
    "v = rinex['v']\n",
    "w = rinex['w']\n",
    "\n",
    "d2x = rinex['d2x']\n",
    "d2y = rinex['d2y']\n",
    "d2z = rinex['d2z']\n",
    "\n",
    "tsv = 12*3600+41*60+36\n",
    "tb = rinex['hour']/1000*3600+rinex['minuts']/1000*60 + rinex['sec']/1000\n",
    "tb_0 = tb\n",
    "t = tsv\n",
    "\n",
    "roz = t - tb\n",
    "\n",
    "ilosc = int(abs(roz/51))\n",
    "def func_r(x,y,z):\n",
    "    return sqrt(x**2+y**2+z**2)\n",
    "\n",
    "\n",
    "print(tb, u,v,w,round(x,4),round(y,4), round(z,4))\n",
    "h = -51\n",
    "for i in range(1,ilosc+1):\n",
    "    #     if i == ilosc+1:\n",
    "    #         h = roz+ilosc*60\n",
    "    #     #print(u,v,w,x,y,z)\n",
    "    r = func_r(x,y,z)\n",
    "    K1, K2, K3, K4, K5, K6 = [0 for x in  range(6)]\n",
    "    k = []\n",
    "    for m in range(4):\n",
    "        if m != 3:\n",
    "            xt = x + K4/2\n",
    "            yt = y + K5/2\n",
    "            zt = z + K6/2\n",
    "            ut = u + K1/2\n",
    "            vt = v + K2/2\n",
    "            wt = w + K3/2\n",
    "        else:\n",
    "            xt = x + K4\n",
    "            yt = y + K5\n",
    "            zt = z + K6\n",
    "            ut = u + K1\n",
    "            vt = v + K2\n",
    "            wt = w + K3\n",
    "        r = func_r(xt,yt,zt)\n",
    "        \n",
    "        f1 = (-GM/r**3)*xt+3/2*C20*((GM*ae**2)/r**5)*xt*(1-((5*zt**2)/r**2))+omega**2*xt+2*omega*vt+d2x\n",
    "        f2 = (-GM/r**3)*yt+3/2*C20*((GM*ae**2)/r**5)*yt*(1-((5*zt**2)/r**2))+omega**2*yt-2*omega*ut+d2y\n",
    "        f3 = (-GM/r**3)*zt+3/2*C20*((GM*ae**2)/r**5)*zt*(3-((5*zt**2)/r**2))+d2z\n",
    "        \n",
    "        K1, K2, K3, K4, K5, K6 =  h * f1, h * f2, h * f3, h * ut, h * vt, h * wt\n",
    "        K = np.array([K1, K2, K3, K4, K5, K6])\n",
    "        k.append(K)\n",
    "    k = np.transpose(np.array(k))\n",
    "    u = u + 1 / 6 * (k[0, 0] + 2 * k[0, 1] + 2 * k[0, 2] + k[0, 3])\n",
    "    v = v + 1 / 6 * (k[1, 0] + 2 * k[1, 1] + 2 * k[1, 2] + k[1, 3])\n",
    "    w = w + 1 / 6 * (k[2, 0] + 2 * k[2, 1] + 2 * k[2, 2] + k[2, 3])\n",
    "    x = x + 1 / 6 * (k[3, 0] + 2 * k[3, 1] + 2 * k[3, 2] + k[3, 3])\n",
    "    y = y + 1 / 6 * (k[4, 0] + 2 * k[4, 1] + 2 * k[4, 2] + k[4, 3])\n",
    "    z = z + 1 / 6 * (k[5, 0] + 2 * k[5, 1] + 2 * k[5, 2] + k[5, 3])\n",
    "    tb += h\n",
    "    print(tb, u,v,w,round(x,4),round(y,4), round(z,4))\n",
    "print(', '.join([str(int(rinex['sh']/1000)), str(int(tb_0)), str(t), str(round(x,3)),str(round(y,3)), str(round(z,3))]))"
   ]
  },
  {
   "cell_type": "code",
   "execution_count": null,
   "id": "ea09ce7b",
   "metadata": {},
   "outputs": [],
   "source": []
  },
  {
   "cell_type": "code",
   "execution_count": null,
   "id": "da066442",
   "metadata": {},
   "outputs": [],
   "source": []
  }
 ],
 "metadata": {
  "kernelspec": {
   "display_name": "Python 3 (ipykernel)",
   "language": "python",
   "name": "python3"
  },
  "language_info": {
   "codemirror_mode": {
    "name": "ipython",
    "version": 3
   },
   "file_extension": ".py",
   "mimetype": "text/x-python",
   "name": "python",
   "nbconvert_exporter": "python",
   "pygments_lexer": "ipython3",
   "version": "3.9.7"
  }
 },
 "nbformat": 4,
 "nbformat_minor": 5
}
