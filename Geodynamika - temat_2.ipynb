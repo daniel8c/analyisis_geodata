{
 "cells": [
  {
   "cell_type": "code",
   "execution_count": null,
   "id": "9152007a",
   "metadata": {},
   "outputs": [],
   "source": []
  },
  {
   "cell_type": "code",
   "execution_count": 9,
   "id": "775da75e",
   "metadata": {},
   "outputs": [],
   "source": [
    "import pyproj\n",
    "geodesic = pyproj.Geod(ellps='WGS84')\n",
    "import numpy as np\n",
    "import os\n",
    "os.chdir(r'C:\\a_sem_i\\GEODYNAMIKA\\temat_2\\dane_przetworzone')"
   ]
  },
  {
   "cell_type": "code",
   "execution_count": 13,
   "id": "a5379a40",
   "metadata": {},
   "outputs": [],
   "source": [
    "numer_od, numer_do = np.loadtxt('dane.txt', usecols=(0,1), unpack = True, dtype = str)\n",
    "long1_a, lat1_a, long2_a, lat2_a = np.loadtxt('dane.txt', usecols=(2,3,4,5), unpack = True)"
   ]
  },
  {
   "cell_type": "code",
   "execution_count": 21,
   "id": "fcbe81a8",
   "metadata": {},
   "outputs": [
    {
     "name": "stdout",
     "output_type": "stream",
     "text": [
      "139.92090042599082\n",
      "116.2440125632051\n",
      "141.23444321237926\n",
      "161.39024920902705\n",
      "139.92090042599082\n",
      "34.498248810790095\n",
      "11.1600728292928\n",
      "49.411361931078844\n",
      "116.2440125632051\n",
      "34.498248810790095\n",
      "29.216699265707444\n",
      "47.184400173230785\n",
      "141.23444321237926\n",
      "11.1600728292928\n",
      "29.216699265707444\n",
      "38.58826529552627\n",
      "161.39024920902705\n",
      "49.411361931078844\n",
      "47.184400173230785\n",
      "38.58826529552627\n"
     ]
    }
   ],
   "source": [
    "for lat1,long1,lat2,long2 in zip(lat1_a,long1_a,lat2_a,long2_a):\n",
    "    fwd_azimuth,back_azimuth,distance = geodesic.inv(lat1, long1, lat2, long2)\n",
    "    print(distance/1000)"
   ]
  },
  {
   "cell_type": "code",
   "execution_count": null,
   "id": "55998911",
   "metadata": {},
   "outputs": [],
   "source": []
  },
  {
   "cell_type": "code",
   "execution_count": null,
   "id": "b100d78d",
   "metadata": {},
   "outputs": [],
   "source": []
  }
 ],
 "metadata": {
  "kernelspec": {
   "display_name": "Python 3",
   "language": "python",
   "name": "python3"
  },
  "language_info": {
   "codemirror_mode": {
    "name": "ipython",
    "version": 3
   },
   "file_extension": ".py",
   "mimetype": "text/x-python",
   "name": "python",
   "nbconvert_exporter": "python",
   "pygments_lexer": "ipython3",
   "version": "3.8.8"
  }
 },
 "nbformat": 4,
 "nbformat_minor": 5
}
